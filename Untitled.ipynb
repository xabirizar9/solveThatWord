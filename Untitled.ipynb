{
 "cells": [
  {
   "cell_type": "code",
   "execution_count": 1,
   "id": "764e934e",
   "metadata": {},
   "outputs": [],
   "source": [
    "import pandas as pd"
   ]
  },
  {
   "cell_type": "code",
   "execution_count": 8,
   "id": "72e57fd3",
   "metadata": {},
   "outputs": [],
   "source": [
    "words = pd.read_csv(\"dictionary.csv\", header=None)"
   ]
  },
  {
   "cell_type": "code",
   "execution_count": 26,
   "id": "e2805297",
   "metadata": {},
   "outputs": [],
   "source": [
    "mask = words[0].str.len() == 5"
   ]
  },
  {
   "cell_type": "code",
   "execution_count": 25,
   "id": "da809527",
   "metadata": {},
   "outputs": [],
   "source": [
    "filtered_words = words[0].loc[mask]\n",
    "five_letters = filtered_words.to_list()"
   ]
  },
  {
   "cell_type": "code",
   "execution_count": null,
   "id": "99e44036",
   "metadata": {},
   "outputs": [],
   "source": []
  }
 ],
 "metadata": {
  "kernelspec": {
   "display_name": "Python 3 (ipykernel)",
   "language": "python",
   "name": "python3"
  },
  "language_info": {
   "codemirror_mode": {
    "name": "ipython",
    "version": 3
   },
   "file_extension": ".py",
   "mimetype": "text/x-python",
   "name": "python",
   "nbconvert_exporter": "python",
   "pygments_lexer": "ipython3",
   "version": "3.9.13"
  }
 },
 "nbformat": 4,
 "nbformat_minor": 5
}
